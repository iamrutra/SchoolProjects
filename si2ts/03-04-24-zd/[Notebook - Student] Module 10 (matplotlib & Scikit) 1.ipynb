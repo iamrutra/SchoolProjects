{
 "nbformat": 4,
 "nbformat_minor": 0,
 "metadata": {
  "language_info": {
   "codemirror_mode": {
    "name": "ipython",
    "version": 3
   },
   "file_extension": ".py",
   "mimetype": "text/x-python",
   "name": "python",
   "nbconvert_exporter": "python",
   "pygments_lexer": "ipython3",
   "version": "3.8.3-final"
  },
  "orig_nbformat": 2,
  "kernelspec": {
   "name": "python3",
   "language": "python",
   "display_name": "Python 3 (ipykernel)"
  },
  "colab": {
   "name": "[Jupyter - Coach] Module 10 matplotlib & Scikit.ipynb",
   "provenance": [],
   "collapsed_sections": []
  }
 },
 "cells": [
  {
   "cell_type": "markdown",
   "metadata": {
    "id": "s738vNTaxuwb",
    "colab_type": "text"
   },
   "source": [
    "# **Plotting a Graph Using matplotlib**"
   ]
  },
  {
   "cell_type": "markdown",
   "metadata": {
    "id": "69wVmVWcxuwc",
    "colab_type": "text"
   },
   "source": [
    "[Matplotlib](https://matplotlib.org/) is a Python 2D plotting library that we can use to produce high quality data visualization. It is highly usable (as you will soon find out), you can create simple and complex graphs with just a few lines of codes! <br><br>[matplotlib.org](https://matplotlib.org/tutorials/introductory/pyplot.html)"
   ]
  },
  {
   "cell_type": "code",
   "metadata": {
    "id": "1cTuqdwOxuwd",
    "colab_type": "code",
    "colab": {}
   },
   "source": [
    "#Remove quotes to install matplotlib, conda for Anaconda and pip if using Python in a different environment.\n",
    "'''\n",
    "pip install matplotlib\n",
    "#or\n",
    "conda install matplotlib\n",
    "'''"
   ],
   "execution_count": null,
   "outputs": []
  },
  {
   "cell_type": "code",
   "metadata": {
    "id": "aqb0XSZExuwg",
    "colab_type": "code",
    "colab": {},
    "ExecuteTime": {
     "end_time": "2024-02-07T14:03:03.704755200Z",
     "start_time": "2024-02-07T14:03:03.689746600Z"
    }
   },
   "source": [
    "import matplotlib.pyplot as plt"
   ],
   "execution_count": 2,
   "outputs": []
  },
  {
   "cell_type": "code",
   "metadata": {
    "tags": [],
    "id": "K-eXhmnmxuwj",
    "colab_type": "code",
    "colab": {},
    "outputId": "75b10344-4ddd-4997-dd3f-569c487daa44",
    "ExecuteTime": {
     "end_time": "2024-02-07T14:03:07.137116600Z",
     "start_time": "2024-02-07T14:03:07.110076500Z"
    }
   },
   "source": [
    "#Create variables for graph (x,y)\n",
    "\n",
    "x = [i for i in range(10)]\n",
    "print(\"Values of X:\",x)\n",
    "\n",
    "y = [2 ** i for i in range(10)]\n",
    "print(\"Values of Y:\",y)"
   ],
   "execution_count": 3,
   "outputs": [
    {
     "name": "stdout",
     "output_type": "stream",
     "text": [
      "Values of X: [0, 1, 2, 3, 4, 5, 6, 7, 8, 9]\n",
      "Values of Y: [1, 2, 4, 8, 16, 32, 64, 128, 256, 512]\n"
     ]
    }
   ]
  },
  {
   "cell_type": "markdown",
   "metadata": {
    "id": "fpbe2lY9xuwm",
    "colab_type": "text"
   },
   "source": [
    "## **Bonus Exercise:**\n",
    "Try adding Labels **and** a Title to the plot below! Some of the codes are provided in the bottom cell"
   ]
  },
  {
   "cell_type": "code",
   "metadata": {
    "id": "tpx6_8ZWxuwn",
    "colab_type": "code",
    "colab": {},
    "outputId": "1d6fe11c-7871-4673-f94d-9cf54ce66bab",
    "ExecuteTime": {
     "end_time": "2024-02-07T14:06:26.260131100Z",
     "start_time": "2024-02-07T14:06:26.074045400Z"
    }
   },
   "source": [
    "#Things to do here: Add Label and run cell\n",
    "plt.title('My first Plot')\n",
    "plt.xlabel('X-Axis')\n",
    "plt.ylabel('Y-Axis')\n",
    "plt.plot(x,y, 'r', x, y, 'bx')\n",
    "plt.show()"
   ],
   "execution_count": 10,
   "outputs": [
    {
     "data": {
      "text/plain": "<Figure size 640x480 with 1 Axes>",
      "image/png": "[encoded data removed]"
     },
     "metadata": {},
     "output_type": "display_data"
    }
   ]
  },
  {
   "cell_type": "code",
   "metadata": {
    "id": "VIzn0z3Nxuwp",
    "colab_type": "code",
    "colab": {}
   },
   "source": [
    "#Adding labels to an axis\n",
    "plt.xlabel('X-Axis')"
   ],
   "execution_count": null,
   "outputs": []
  },
  {
   "cell_type": "markdown",
   "metadata": {
    "id": "y842Bcz7xuws",
    "colab_type": "text"
   },
   "source": [
    "## Scatter plot\n",
    "\n",
    "Scatter plots use a collection of points on a graph to display values from two variables. This allow us to see if there is any relationship or correlation between the two variables. "
   ]
  },
  {
   "cell_type": "code",
   "metadata": {
    "id": "xuDlcjGNxuws",
    "colab_type": "code",
    "colab": {},
    "outputId": "43d4948a-03d2-434d-9daa-c31f6679b9bf"
   },
   "source": [
    "#Plotting a Scatterplot\n",
    "plt.scatter(x,y)\n",
    "plt.show()"
   ],
   "execution_count": null,
   "outputs": [
    {
     "output_type": "display_data",
     "data": {
      "text/plain": [
       "<Figure size 432x288 with 1 Axes>"
      ],
      "image/svg+xml": "<?xml version=\"1.0\" encoding=\"utf-8\" standalone=\"no\"?>\r\n<!DOCTYPE svg PUBLIC \"-//W3C//DTD SVG 1.1//EN\"\r\n  \"http://www.w3.org/Graphics/SVG/1.1/DTD/svg11.dtd\">\r\n<!-- Created with matplotlib (https://matplotlib.org/) -->\r\n<svg height=\"248.518125pt\" version=\"1.1\" viewBox=\"0 0 375.2875 248.518125\" width=\"375.2875pt\" xmlns=\"http://www.w3.org/2000/svg\" xmlns:xlink=\"http://www.w3.org/1999/xlink\">\r\n <defs>\r\n  <style type=\"text/css\">\r\n*{stroke-linecap:butt;stroke-linejoin:round;}\r\n  </style>\r\n </defs>\r\n <g id=\"figure_1\">\r\n  <g id=\"patch_1\">\r\n   <path d=\"M 0 248.518125 \r\nL 375.2875 248.518125 \r\nL 375.2875 0 \r\nL 0 0 \r\nz\r\n\" style=\"fill:none;\"/>\r\n  </g>\r\n  <g id=\"axes_1\">\r\n   <g id=\"patch_2\">\r\n    <path d=\"M 33.2875 224.64 \r\nL 368.0875 224.64 \r\nL 368.0875 7.2 \r\nL 33.2875 7.2 \r\nz\r\n\" style=\"fill:#ffffff;\"/>\r\n   </g>\r\n   <g id=\"PathCollection_1\">\r\n    <defs>\r\n     <path d=\"M 0 3 \r\nC 0.795609 3 1.55874 2.683901 2.12132 2.12132 \r\nC 2.683901 1.55874 3 0.795609 3 0 \r\nC 3 -0.795609 2.683901 -1.55874 2.12132 -2.12132 \r\nC 1.55874 -2.683901 0.795609 -3 0 -3 \r\nC -0.795609 -3 -1.55874 -2.683901 -2.12132 -2.12132 \r\nC -2.683901 -1.55874 -3 -0.795609 -3 0 \r\nC -3 0.795609 -2.683901 1.55874 -2.12132 2.12132 \r\nC -1.55874 2.683901 -0.795609 3 0 3 \r\nz\r\n\" id=\"mfab1bbccf8\" style=\"stroke:#1f77b4;\"/>\r\n    </defs>\r\n    <g clip-path=\"url(#p890f8415f4)\">\r\n     <use style=\"fill:#1f77b4;stroke:#1f77b4;\" x=\"48.505682\" xlink:href=\"#mfab1bbccf8\" y=\"214.756364\"/>\r\n     <use style=\"fill:#1f77b4;stroke:#1f77b4;\" x=\"82.323864\" xlink:href=\"#mfab1bbccf8\" y=\"214.369529\"/>\r\n     <use style=\"fill:#1f77b4;stroke:#1f77b4;\" x=\"116.142045\" xlink:href=\"#mfab1bbccf8\" y=\"213.595858\"/>\r\n     <use style=\"fill:#1f77b4;stroke:#1f77b4;\" x=\"149.960227\" xlink:href=\"#mfab1bbccf8\" y=\"212.048518\"/>\r\n     <use style=\"fill:#1f77b4;stroke:#1f77b4;\" x=\"183.778409\" xlink:href=\"#mfab1bbccf8\" y=\"208.953837\"/>\r\n     <use style=\"fill:#1f77b4;stroke:#1f77b4;\" x=\"217.596591\" xlink:href=\"#mfab1bbccf8\" y=\"202.764476\"/>\r\n     <use style=\"fill:#1f77b4;stroke:#1f77b4;\" x=\"251.414773\" xlink:href=\"#mfab1bbccf8\" y=\"190.385753\"/>\r\n     <use style=\"fill:#1f77b4;stroke:#1f77b4;\" x=\"285.232955\" xlink:href=\"#mfab1bbccf8\" y=\"165.628308\"/>\r\n     <use style=\"fill:#1f77b4;stroke:#1f77b4;\" x=\"319.051136\" xlink:href=\"#mfab1bbccf8\" y=\"116.113418\"/>\r\n     <use style=\"fill:#1f77b4;stroke:#1f77b4;\" x=\"352.869318\" xlink:href=\"#mfab1bbccf8\" y=\"17.083636\"/>\r\n    </g>\r\n   </g>\r\n   <g id=\"matplotlib.axis_1\">\r\n    <g id=\"xtick_1\">\r\n     <g id=\"line2d_1\">\r\n      <defs>\r\n       <path d=\"M 0 0 \r\nL 0 3.5 \r\n\" id=\"m92ccabd2af\" style=\"stroke:#000000;stroke-width:0.8;\"/>\r\n      </defs>\r\n      <g>\r\n       <use style=\"stroke:#000000;stroke-width:0.8;\" x=\"48.505682\" xlink:href=\"#m92ccabd2af\" y=\"224.64\"/>\r\n      </g>\r\n     </g>\r\n     <g id=\"text_1\">\r\n      <!-- 0 -->\r\n      <defs>\r\n       <path d=\"M 31.78125 66.40625 \r\nQ 24.171875 66.40625 20.328125 58.90625 \r\nQ 16.5 51.421875 16.5 36.375 \r\nQ 16.5 21.390625 20.328125 13.890625 \r\nQ 24.171875 6.390625 31.78125 6.390625 \r\nQ 39.453125 6.390625 43.28125 13.890625 \r\nQ 47.125 21.390625 47.125 36.375 \r\nQ 47.125 51.421875 43.28125 58.90625 \r\nQ 39.453125 66.40625 31.78125 66.40625 \r\nz\r\nM 31.78125 74.21875 \r\nQ 44.046875 74.21875 50.515625 64.515625 \r\nQ 56.984375 54.828125 56.984375 36.375 \r\nQ 56.984375 17.96875 50.515625 8.265625 \r\nQ 44.046875 -1.421875 31.78125 -1.421875 \r\nQ 19.53125 -1.421875 13.0625 8.265625 \r\nQ 6.59375 17.96875 6.59375 36.375 \r\nQ 6.59375 54.828125 13.0625 64.515625 \r\nQ 19.53125 74.21875 31.78125 74.21875 \r\nz\r\n\" id=\"DejaVuSans-48\"/>\r\n      </defs>\r\n      <g transform=\"translate(45.324432 239.238437)scale(0.1 -0.1)\">\r\n       <use xlink:href=\"#DejaVuSans-48\"/>\r\n      </g>\r\n     </g>\r\n    </g>\r\n    <g id=\"xtick_2\">\r\n     <g id=\"line2d_2\">\r\n      <g>\r\n       <use style=\"stroke:#000000;stroke-width:0.8;\" x=\"116.142045\" xlink:href=\"#m92ccabd2af\" y=\"224.64\"/>\r\n      </g>\r\n     </g>\r\n     <g id=\"text_2\">\r\n      <!-- 2 -->\r\n      <defs>\r\n       <path d=\"M 19.1875 8.296875 \r\nL 53.609375 8.296875 \r\nL 53.609375 0 \r\nL 7.328125 0 \r\nL 7.328125 8.296875 \r\nQ 12.9375 14.109375 22.625 23.890625 \r\nQ 32.328125 33.6875 34.8125 36.53125 \r\nQ 39.546875 41.84375 41.421875 45.53125 \r\nQ 43.3125 49.21875 43.3125 52.78125 \r\nQ 43.3125 58.59375 39.234375 62.25 \r\nQ 35.15625 65.921875 28.609375 65.921875 \r\nQ 23.96875 65.921875 18.8125 64.3125 \r\nQ 13.671875 62.703125 7.8125 59.421875 \r\nL 7.8125 69.390625 \r\nQ 13.765625 71.78125 18.9375 73 \r\nQ 24.125 74.21875 28.421875 74.21875 \r\nQ 39.75 74.21875 46.484375 68.546875 \r\nQ 53.21875 62.890625 53.21875 53.421875 \r\nQ 53.21875 48.921875 51.53125 44.890625 \r\nQ 49.859375 40.875 45.40625 35.40625 \r\nQ 44.1875 33.984375 37.640625 27.21875 \r\nQ 31.109375 20.453125 19.1875 8.296875 \r\nz\r\n\" id=\"DejaVuSans-50\"/>\r\n      </defs>\r\n      <g transform=\"translate(112.960795 239.238437)scale(0.1 -0.1)\">\r\n       <use xlink:href=\"#DejaVuSans-50\"/>\r\n      </g>\r\n     </g>\r\n    </g>\r\n    <g id=\"xtick_3\">\r\n     <g id=\"line2d_3\">\r\n      <g>\r\n       <use style=\"stroke:#000000;stroke-width:0.8;\" x=\"183.778409\" xlink:href=\"#m92ccabd2af\" y=\"224.64\"/>\r\n      </g>\r\n     </g>\r\n     <g id=\"text_3\">\r\n      <!-- 4 -->\r\n      <defs>\r\n       <path d=\"M 37.796875 64.3125 \r\nL 12.890625 25.390625 \r\nL 37.796875 25.390625 \r\nz\r\nM 35.203125 72.90625 \r\nL 47.609375 72.90625 \r\nL 47.609375 25.390625 \r\nL 58.015625 25.390625 \r\nL 58.015625 17.1875 \r\nL 47.609375 17.1875 \r\nL 47.609375 0 \r\nL 37.796875 0 \r\nL 37.796875 17.1875 \r\nL 4.890625 17.1875 \r\nL 4.890625 26.703125 \r\nz\r\n\" id=\"DejaVuSans-52\"/>\r\n      </defs>\r\n      <g transform=\"translate(180.597159 239.238437)scale(0.1 -0.1)\">\r\n       <use xlink:href=\"#DejaVuSans-52\"/>\r\n      </g>\r\n     </g>\r\n    </g>\r\n    <g id=\"xtick_4\">\r\n     <g id=\"line2d_4\">\r\n      <g>\r\n       <use style=\"stroke:#000000;stroke-width:0.8;\" x=\"251.414773\" xlink:href=\"#m92ccabd2af\" y=\"224.64\"/>\r\n      </g>\r\n     </g>\r\n     <g id=\"text_4\">\r\n      <!-- 6 -->\r\n      <defs>\r\n       <path d=\"M 33.015625 40.375 \r\nQ 26.375 40.375 22.484375 35.828125 \r\nQ 18.609375 31.296875 18.609375 23.390625 \r\nQ 18.609375 15.53125 22.484375 10.953125 \r\nQ 26.375 6.390625 33.015625 6.390625 \r\nQ 39.65625 6.390625 43.53125 10.953125 \r\nQ 47.40625 15.53125 47.40625 23.390625 \r\nQ 47.40625 31.296875 43.53125 35.828125 \r\nQ 39.65625 40.375 33.015625 40.375 \r\nz\r\nM 52.59375 71.296875 \r\nL 52.59375 62.3125 \r\nQ 48.875 64.0625 45.09375 64.984375 \r\nQ 41.3125 65.921875 37.59375 65.921875 \r\nQ 27.828125 65.921875 22.671875 59.328125 \r\nQ 17.53125 52.734375 16.796875 39.40625 \r\nQ 19.671875 43.65625 24.015625 45.921875 \r\nQ 28.375 48.1875 33.59375 48.1875 \r\nQ 44.578125 48.1875 50.953125 41.515625 \r\nQ 57.328125 34.859375 57.328125 23.390625 \r\nQ 57.328125 12.15625 50.6875 5.359375 \r\nQ 44.046875 -1.421875 33.015625 -1.421875 \r\nQ 20.359375 -1.421875 13.671875 8.265625 \r\nQ 6.984375 17.96875 6.984375 36.375 \r\nQ 6.984375 53.65625 15.1875 63.9375 \r\nQ 23.390625 74.21875 37.203125 74.21875 \r\nQ 40.921875 74.21875 44.703125 73.484375 \r\nQ 48.484375 72.75 52.59375 71.296875 \r\nz\r\n\" id=\"DejaVuSans-54\"/>\r\n      </defs>\r\n      <g transform=\"translate(248.233523 239.238437)scale(0.1 -0.1)\">\r\n       <use xlink:href=\"#DejaVuSans-54\"/>\r\n      </g>\r\n     </g>\r\n    </g>\r\n    <g id=\"xtick_5\">\r\n     <g id=\"line2d_5\">\r\n      <g>\r\n       <use style=\"stroke:#000000;stroke-width:0.8;\" x=\"319.051136\" xlink:href=\"#m92ccabd2af\" y=\"224.64\"/>\r\n      </g>\r\n     </g>\r\n     <g id=\"text_5\">\r\n      <!-- 8 -->\r\n      <defs>\r\n       <path d=\"M 31.78125 34.625 \r\nQ 24.75 34.625 20.71875 30.859375 \r\nQ 16.703125 27.09375 16.703125 20.515625 \r\nQ 16.703125 13.921875 20.71875 10.15625 \r\nQ 24.75 6.390625 31.78125 6.390625 \r\nQ 38.8125 6.390625 42.859375 10.171875 \r\nQ 46.921875 13.96875 46.921875 20.515625 \r\nQ 46.921875 27.09375 42.890625 30.859375 \r\nQ 38.875 34.625 31.78125 34.625 \r\nz\r\nM 21.921875 38.8125 \r\nQ 15.578125 40.375 12.03125 44.71875 \r\nQ 8.5 49.078125 8.5 55.328125 \r\nQ 8.5 64.0625 14.71875 69.140625 \r\nQ 20.953125 74.21875 31.78125 74.21875 \r\nQ 42.671875 74.21875 48.875 69.140625 \r\nQ 55.078125 64.0625 55.078125 55.328125 \r\nQ 55.078125 49.078125 51.53125 44.71875 \r\nQ 48 40.375 41.703125 38.8125 \r\nQ 48.828125 37.15625 52.796875 32.3125 \r\nQ 56.78125 27.484375 56.78125 20.515625 \r\nQ 56.78125 9.90625 50.3125 4.234375 \r\nQ 43.84375 -1.421875 31.78125 -1.421875 \r\nQ 19.734375 -1.421875 13.25 4.234375 \r\nQ 6.78125 9.90625 6.78125 20.515625 \r\nQ 6.78125 27.484375 10.78125 32.3125 \r\nQ 14.796875 37.15625 21.921875 38.8125 \r\nz\r\nM 18.3125 54.390625 \r\nQ 18.3125 48.734375 21.84375 45.5625 \r\nQ 25.390625 42.390625 31.78125 42.390625 \r\nQ 38.140625 42.390625 41.71875 45.5625 \r\nQ 45.3125 48.734375 45.3125 54.390625 \r\nQ 45.3125 60.0625 41.71875 63.234375 \r\nQ 38.140625 66.40625 31.78125 66.40625 \r\nQ 25.390625 66.40625 21.84375 63.234375 \r\nQ 18.3125 60.0625 18.3125 54.390625 \r\nz\r\n\" id=\"DejaVuSans-56\"/>\r\n      </defs>\r\n      <g transform=\"translate(315.869886 239.238437)scale(0.1 -0.1)\">\r\n       <use xlink:href=\"#DejaVuSans-56\"/>\r\n      </g>\r\n     </g>\r\n    </g>\r\n   </g>\r\n   <g id=\"matplotlib.axis_2\">\r\n    <g id=\"ytick_1\">\r\n     <g id=\"line2d_6\">\r\n      <defs>\r\n       <path d=\"M 0 0 \r\nL -3.5 0 \r\n\" id=\"m853dc3caf2\" style=\"stroke:#000000;stroke-width:0.8;\"/>\r\n      </defs>\r\n      <g>\r\n       <use style=\"stroke:#000000;stroke-width:0.8;\" x=\"33.2875\" xlink:href=\"#m853dc3caf2\" y=\"215.143199\"/>\r\n      </g>\r\n     </g>\r\n     <g id=\"text_6\">\r\n      <!-- 0 -->\r\n      <g transform=\"translate(19.925 218.942417)scale(0.1 -0.1)\">\r\n       <use xlink:href=\"#DejaVuSans-48\"/>\r\n      </g>\r\n     </g>\r\n    </g>\r\n    <g id=\"ytick_2\">\r\n     <g id=\"line2d_7\">\r\n      <g>\r\n       <use style=\"stroke:#000000;stroke-width:0.8;\" x=\"33.2875\" xlink:href=\"#m853dc3caf2\" y=\"176.45969\"/>\r\n      </g>\r\n     </g>\r\n     <g id=\"text_7\">\r\n      <!-- 100 -->\r\n      <defs>\r\n       <path d=\"M 12.40625 8.296875 \r\nL 28.515625 8.296875 \r\nL 28.515625 63.921875 \r\nL 10.984375 60.40625 \r\nL 10.984375 69.390625 \r\nL 28.421875 72.90625 \r\nL 38.28125 72.90625 \r\nL 38.28125 8.296875 \r\nL 54.390625 8.296875 \r\nL 54.390625 0 \r\nL 12.40625 0 \r\nz\r\n\" id=\"DejaVuSans-49\"/>\r\n      </defs>\r\n      <g transform=\"translate(7.2 180.258909)scale(0.1 -0.1)\">\r\n       <use xlink:href=\"#DejaVuSans-49\"/>\r\n       <use x=\"63.623047\" xlink:href=\"#DejaVuSans-48\"/>\r\n       <use x=\"127.246094\" xlink:href=\"#DejaVuSans-48\"/>\r\n      </g>\r\n     </g>\r\n    </g>\r\n    <g id=\"ytick_3\">\r\n     <g id=\"line2d_8\">\r\n      <g>\r\n       <use style=\"stroke:#000000;stroke-width:0.8;\" x=\"33.2875\" xlink:href=\"#m853dc3caf2\" y=\"137.776182\"/>\r\n      </g>\r\n     </g>\r\n     <g id=\"text_8\">\r\n      <!-- 200 -->\r\n      <g transform=\"translate(7.2 141.575401)scale(0.1 -0.1)\">\r\n       <use xlink:href=\"#DejaVuSans-50\"/>\r\n       <use x=\"63.623047\" xlink:href=\"#DejaVuSans-48\"/>\r\n       <use x=\"127.246094\" xlink:href=\"#DejaVuSans-48\"/>\r\n      </g>\r\n     </g>\r\n    </g>\r\n    <g id=\"ytick_4\">\r\n     <g id=\"line2d_9\">\r\n      <g>\r\n       <use style=\"stroke:#000000;stroke-width:0.8;\" x=\"33.2875\" xlink:href=\"#m853dc3caf2\" y=\"99.092674\"/>\r\n      </g>\r\n     </g>\r\n     <g id=\"text_9\">\r\n      <!-- 300 -->\r\n      <defs>\r\n       <path d=\"M 40.578125 39.3125 \r\nQ 47.65625 37.796875 51.625 33 \r\nQ 55.609375 28.21875 55.609375 21.1875 \r\nQ 55.609375 10.40625 48.1875 4.484375 \r\nQ 40.765625 -1.421875 27.09375 -1.421875 \r\nQ 22.515625 -1.421875 17.65625 -0.515625 \r\nQ 12.796875 0.390625 7.625 2.203125 \r\nL 7.625 11.71875 \r\nQ 11.71875 9.328125 16.59375 8.109375 \r\nQ 21.484375 6.890625 26.8125 6.890625 \r\nQ 36.078125 6.890625 40.9375 10.546875 \r\nQ 45.796875 14.203125 45.796875 21.1875 \r\nQ 45.796875 27.640625 41.28125 31.265625 \r\nQ 36.765625 34.90625 28.71875 34.90625 \r\nL 20.21875 34.90625 \r\nL 20.21875 43.015625 \r\nL 29.109375 43.015625 \r\nQ 36.375 43.015625 40.234375 45.921875 \r\nQ 44.09375 48.828125 44.09375 54.296875 \r\nQ 44.09375 59.90625 40.109375 62.90625 \r\nQ 36.140625 65.921875 28.71875 65.921875 \r\nQ 24.65625 65.921875 20.015625 65.03125 \r\nQ 15.375 64.15625 9.8125 62.3125 \r\nL 9.8125 71.09375 \r\nQ 15.4375 72.65625 20.34375 73.4375 \r\nQ 25.25 74.21875 29.59375 74.21875 \r\nQ 40.828125 74.21875 47.359375 69.109375 \r\nQ 53.90625 64.015625 53.90625 55.328125 \r\nQ 53.90625 49.265625 50.4375 45.09375 \r\nQ 46.96875 40.921875 40.578125 39.3125 \r\nz\r\n\" id=\"DejaVuSans-51\"/>\r\n      </defs>\r\n      <g transform=\"translate(7.2 102.891893)scale(0.1 -0.1)\">\r\n       <use xlink:href=\"#DejaVuSans-51\"/>\r\n       <use x=\"63.623047\" xlink:href=\"#DejaVuSans-48\"/>\r\n       <use x=\"127.246094\" xlink:href=\"#DejaVuSans-48\"/>\r\n      </g>\r\n     </g>\r\n    </g>\r\n    <g id=\"ytick_5\">\r\n     <g id=\"line2d_10\">\r\n      <g>\r\n       <use style=\"stroke:#000000;stroke-width:0.8;\" x=\"33.2875\" xlink:href=\"#m853dc3caf2\" y=\"60.409166\"/>\r\n      </g>\r\n     </g>\r\n     <g id=\"text_10\">\r\n      <!-- 400 -->\r\n      <g transform=\"translate(7.2 64.208384)scale(0.1 -0.1)\">\r\n       <use xlink:href=\"#DejaVuSans-52\"/>\r\n       <use x=\"63.623047\" xlink:href=\"#DejaVuSans-48\"/>\r\n       <use x=\"127.246094\" xlink:href=\"#DejaVuSans-48\"/>\r\n      </g>\r\n     </g>\r\n    </g>\r\n    <g id=\"ytick_6\">\r\n     <g id=\"line2d_11\">\r\n      <g>\r\n       <use style=\"stroke:#000000;stroke-width:0.8;\" x=\"33.2875\" xlink:href=\"#m853dc3caf2\" y=\"21.725657\"/>\r\n      </g>\r\n     </g>\r\n     <g id=\"text_11\">\r\n      <!-- 500 -->\r\n      <defs>\r\n       <path d=\"M 10.796875 72.90625 \r\nL 49.515625 72.90625 \r\nL 49.515625 64.59375 \r\nL 19.828125 64.59375 \r\nL 19.828125 46.734375 \r\nQ 21.96875 47.46875 24.109375 47.828125 \r\nQ 26.265625 48.1875 28.421875 48.1875 \r\nQ 40.625 48.1875 47.75 41.5 \r\nQ 54.890625 34.8125 54.890625 23.390625 \r\nQ 54.890625 11.625 47.5625 5.09375 \r\nQ 40.234375 -1.421875 26.90625 -1.421875 \r\nQ 22.3125 -1.421875 17.546875 -0.640625 \r\nQ 12.796875 0.140625 7.71875 1.703125 \r\nL 7.71875 11.625 \r\nQ 12.109375 9.234375 16.796875 8.0625 \r\nQ 21.484375 6.890625 26.703125 6.890625 \r\nQ 35.15625 6.890625 40.078125 11.328125 \r\nQ 45.015625 15.765625 45.015625 23.390625 \r\nQ 45.015625 31 40.078125 35.4375 \r\nQ 35.15625 39.890625 26.703125 39.890625 \r\nQ 22.75 39.890625 18.8125 39.015625 \r\nQ 14.890625 38.140625 10.796875 36.28125 \r\nz\r\n\" id=\"DejaVuSans-53\"/>\r\n      </defs>\r\n      <g transform=\"translate(7.2 25.524876)scale(0.1 -0.1)\">\r\n       <use xlink:href=\"#DejaVuSans-53\"/>\r\n       <use x=\"63.623047\" xlink:href=\"#DejaVuSans-48\"/>\r\n       <use x=\"127.246094\" xlink:href=\"#DejaVuSans-48\"/>\r\n      </g>\r\n     </g>\r\n    </g>\r\n   </g>\r\n   <g id=\"patch_3\">\r\n    <path d=\"M 33.2875 224.64 \r\nL 33.2875 7.2 \r\n\" style=\"fill:none;stroke:#000000;stroke-linecap:square;stroke-linejoin:miter;stroke-width:0.8;\"/>\r\n   </g>\r\n   <g id=\"patch_4\">\r\n    <path d=\"M 368.0875 224.64 \r\nL 368.0875 7.2 \r\n\" style=\"fill:none;stroke:#000000;stroke-linecap:square;stroke-linejoin:miter;stroke-width:0.8;\"/>\r\n   </g>\r\n   <g id=\"patch_5\">\r\n    <path d=\"M 33.2875 224.64 \r\nL 368.0875 224.64 \r\n\" style=\"fill:none;stroke:#000000;stroke-linecap:square;stroke-linejoin:miter;stroke-width:0.8;\"/>\r\n   </g>\r\n   <g id=\"patch_6\">\r\n    <path d=\"M 33.2875 7.2 \r\nL 368.0875 7.2 \r\n\" style=\"fill:none;stroke:#000000;stroke-linecap:square;stroke-linejoin:miter;stroke-width:0.8;\"/>\r\n   </g>\r\n  </g>\r\n </g>\r\n <defs>\r\n  <clipPath id=\"p890f8415f4\">\r\n   <rect height=\"217.44\" width=\"334.8\" x=\"33.2875\" y=\"7.2\"/>\r\n  </clipPath>\r\n </defs>\r\n</svg>\r\n",
      "image/png": "[encoded data removed]"
     },
     "metadata": {
      "tags": [],
      "needs_background": "light"
     }
    }
   ]
  },
  {
   "cell_type": "markdown",
   "metadata": {
    "id": "EYYhXkmWxuwv",
    "colab_type": "text"
   },
   "source": [
    "These are some basic examples of how matplotlib can be used, the plots, labels, etc can be manipulated and adjusted to be displayed however you would like using functionality provided by matplotlib.\n",
    "\n",
    "Do you know of any more graphs? Name them below! Go online and look for the types of graphs matplotlib offers \n",
    "\n",
    "<br><br>[matplotlib's tutorial website](https://matplotlib.org/tutorials/introductory/pyplot.html)"
   ]
  },
  {
   "cell_type": "code",
   "metadata": {
    "id": "2bmzy0umxuww",
    "colab_type": "code",
    "colab": {}
   },
   "source": [
    "#Answer here"
   ],
   "execution_count": null,
   "outputs": []
  },
  {
   "cell_type": "markdown",
   "metadata": {
    "id": "TVx3v64Rxuwy",
    "colab_type": "text"
   },
   "source": [
    "# **Scikit Learn - Basics**"
   ]
  },
  {
   "cell_type": "markdown",
   "metadata": {
    "id": "dWNoqCO0xuwy",
    "colab_type": "text"
   },
   "source": [
    "scikit-learn is an open source machine learning library that supports supervised and unsupervised learning.<br>It also provides various tools for model fitting, data preprocessing, model selection and evaluation, and many other utilities. <br><br>[scikit-learn.org](https://scikit-learn.org/stable/getting_started.html)"
   ]
  },
  {
   "cell_type": "markdown",
   "metadata": {
    "id": "Acuww1fuxuwz",
    "colab_type": "text"
   },
   "source": [
    "Here we will walk through the basics of how to get started with scikit learn and some terminologies you will be coming across in the later sessions. Give the codes below a run through!\n",
    "Don't worry if you do not understand the exact workings of scikit-learn or a machine learning workflow at present, these codes below just demonstrate everything you have come across in the notebooks so far! In the later sessions we will go through the process together step by step in more detail. "
   ]
  },
  {
   "cell_type": "code",
   "metadata": {
    "id": "5HgP88cYxuwz",
    "colab_type": "code",
    "colab": {}
   },
   "source": [
    "#Remove quotes to install scikit-learn, conda for Anaconda and pip if using Python in a different environment.\n",
    "'''\n",
    "pip install scikit-learn\n",
    "#or\n",
    "conda install scikit-learn\n",
    "'''"
   ],
   "execution_count": null,
   "outputs": []
  },
  {
   "cell_type": "markdown",
   "metadata": {
    "id": "umgGl-Cgxuw2",
    "colab_type": "text"
   },
   "source": [
    "First, import sklearn, you can check if it is imported correctly by using print. This gives you an error if the library is not imported correctly"
   ]
  },
  {
   "cell_type": "code",
   "metadata": {
    "tags": [],
    "id": "j30gIwFGxuw2",
    "colab_type": "code",
    "colab": {}
   },
   "source": [
    "#Importing sklearn library\n",
    "import sklearn\n",
    "print(sklearn.__version__)"
   ],
   "execution_count": null,
   "outputs": []
  },
  {
   "cell_type": "markdown",
   "metadata": {
    "id": "D4Uj7RiBxuw4",
    "colab_type": "text"
   },
   "source": [
    "Next, we will import the dependencies required for the example. In this example we shall be demonstrating the visualization of a Decision Tree, here we will import the DecisionTreeClassifier as well as the plot tree which will aid us in visualization later."
   ]
  },
  {
   "cell_type": "code",
   "metadata": {
    "tags": [],
    "id": "ntWo5Qs6xuw5",
    "colab_type": "code",
    "colab": {}
   },
   "source": [
    "#Importing numpy, pandas, matplotlib.pyplot, DecisionTreeClassifier and plot_tree: This portion would look similar to examples you would come across later!\n",
    "import numpy as np \n",
    "import pandas as pd\n",
    "import matplotlib.pyplot as plt\n",
    "\n",
    "from sklearn.tree import DecisionTreeClassifier\n",
    "from sklearn.tree import plot_tree"
   ],
   "execution_count": null,
   "outputs": []
  },
  {
   "cell_type": "markdown",
   "metadata": {
    "id": "fJuPmR-mxuw7",
    "colab_type": "text"
   },
   "source": [
    "Then, we import the dataset, in this case it will be provided from scikit-learn itself. "
   ]
  },
  {
   "cell_type": "code",
   "metadata": {
    "id": "4OiYPpSnxuw8",
    "colab_type": "code",
    "colab": {}
   },
   "source": [
    "#Import the breast cancer dataset from Scikit-Learn\n",
    "from sklearn.datasets import load_breast_cancer\n",
    "data = load_breast_cancer()\n",
    "list(data.target_names)"
   ],
   "execution_count": null,
   "outputs": []
  },
  {
   "cell_type": "markdown",
   "metadata": {
    "id": "Wh7R9fY1xuw-",
    "colab_type": "text"
   },
   "source": [
    "And finally, we specify the maximum number of levels of the Tree by the max_depth argument, then we train the model with the dataset using the fit function and then we visualize it using the plot tree."
   ]
  },
  {
   "cell_type": "code",
   "metadata": {
    "id": "AkUQzZlYxuw-",
    "colab_type": "code",
    "colab": {}
   },
   "source": [
    "#Here we pass the dataset into the model and plot the visualization of the tree \n",
    "clf = DecisionTreeClassifier(max_depth=3) #max_depth is maximum number of levels in the tree\n",
    "clf.fit(data.data, data.target)\n",
    "\n",
    "plt.figure(figsize=(25,10))\n",
    "a = plot_tree(clf, \n",
    "              feature_names=data.feature_names, \n",
    "              class_names=data.target_names, \n",
    "              filled=True, \n",
    "              fontsize=18)"
   ],
   "execution_count": null,
   "outputs": []
  },
  {
   "cell_type": "markdown",
   "metadata": {
    "id": "L1UzxxEuxuxA",
    "colab_type": "text"
   },
   "source": [
    "What we have seen is how powerful and easy it is to do Machine Learning using scikit-learn, in the following sessions you will learn more about Machine Learning and the functionality scikit-learn offers. <br><br>For now, can you name the main features of scikit-learn? "
   ]
  },
  {
   "cell_type": "code",
   "metadata": {
    "id": "4Ld4MxaXxuxB",
    "colab_type": "code",
    "colab": {}
   },
   "source": [
    "#Answer here"
   ],
   "execution_count": null,
   "outputs": []
  },
  {
   "cell_type": "markdown",
   "metadata": {
    "id": "ZAiYhT2uxuxD",
    "colab_type": "text"
   },
   "source": [
    "# Train, test split"
   ]
  },
  {
   "cell_type": "markdown",
   "metadata": {
    "id": "qE7QSXH9xuxD",
    "colab_type": "text"
   },
   "source": [
    "Train, test split is a function provided by scikit-learn, its purpose is to split a dataset into \"training data\" and \"testing data\". The reason you might want to do this is when you would like to evaluate your model's performance based on *new* data that was not used to train the model and you have a sufficiently large dataset. \n",
    "\n",
    "**This section is a bonus! Do not feel pressured to fully grasp how to execute this!**"
   ]
  },
  {
   "cell_type": "markdown",
   "metadata": {
    "id": "jn_8S8knxuxE",
    "colab_type": "text"
   },
   "source": [
    "Just as an example, here we shall split the data used in the previous example"
   ]
  },
  {
   "cell_type": "code",
   "metadata": {
    "tags": [],
    "id": "c1jidB_HxuxE",
    "colab_type": "code",
    "colab": {}
   },
   "source": [
    "from sklearn.model_selection import train_test_split\n",
    "from sklearn.datasets import load_breast_cancer\n",
    "data = load_breast_cancer()\n",
    "#Split data into features and labels, features being the input and labels are the output\n",
    "X = data.data\n",
    "y = data.target\n",
    "\n",
    "#To visualize the data before being split we can do a print here\n",
    "print(X.shape)\n",
    "print(y.shape,'\\n')\n",
    "\n",
    "#Next create these variables and use the train_test_split function\n",
    "#test size is the ratio of how much of the data is split between test and train, in this case, 0.2 is 20% \n",
    "X_train, X_test, y_train, y_test = train_test_split(X,y,test_size=0.2) \n",
    "\n",
    "#These are the shape of data after being split\n",
    "print(X_train.shape)\n",
    "print(X_test.shape,'\\n')\n",
    "\n",
    "print(y_train.shape)\n",
    "print(y_test.shape)"
   ],
   "execution_count": null,
   "outputs": []
  },
  {
   "cell_type": "markdown",
   "metadata": {
    "id": "xblMeAG9xuxG",
    "colab_type": "text"
   },
   "source": [
    "**Bonus Exercise:** Can you import another dataset from scikit-learn and split it?"
   ]
  },
  {
   "cell_type": "code",
   "metadata": {
    "id": "5c1UbmY9xuxH",
    "colab_type": "code",
    "colab": {}
   },
   "source": [
    "#code here"
   ],
   "execution_count": null,
   "outputs": []
  }
 ]
}
