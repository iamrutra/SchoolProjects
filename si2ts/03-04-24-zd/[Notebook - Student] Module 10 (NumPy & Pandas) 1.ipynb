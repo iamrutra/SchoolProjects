{
  "nbformat": 4,
  "nbformat_minor": 0,
  "metadata": {
    "kernelspec": {
      "display_name": "Python 3",
      "language": "python",
      "name": "python3"
    },
    "language_info": {
      "codemirror_mode": {
        "name": "ipython",
        "version": 3
      },
      "file_extension": ".py",
      "mimetype": "text/x-python",
      "name": "python",
      "nbconvert_exporter": "python",
      "pygments_lexer": "ipython3",
      "version": "3.7.6"
    },
    "colab": {
      "name": "[Jupyter - Coach] Module 10 NumPy & Pandas.ipynb",
      "provenance": [],
      "collapsed_sections": []
    }
  },
  "cells": [
    {
      "cell_type": "markdown",
      "metadata": {
        "id": "R92rt65pZWLP",
        "colab_type": "text"
      },
      "source": [
        "# **Getting Started with Python!**"
      ]
    },
    {
      "cell_type": "markdown",
      "metadata": {
        "id": "BGeKwY5yZWLQ",
        "colab_type": "text"
      },
      "source": [
        "## NumPy"
      ]
    },
    {
      "cell_type": "markdown",
      "metadata": {
        "id": "wb0X3sWYZWLR",
        "colab_type": "text"
      },
      "source": [
        "In the previous notebook we learnt the basics of Python and why it's so popular for application in AI. We also learnt about the different data types available in Python, what modules and packages are along with different control options. Now let's get started with **NumPy** (short for Numerical'Num' Python'Py')  one of the most popular packages available in Python for performing scientfic calculcations especially those related to arrays. Let's get started! "
      ]
    },
    {
      "cell_type": "markdown",
      "metadata": {
        "id": "z90prMLRZWLS",
        "colab_type": "text"
      },
      "source": [
        "## Arrays"
      ]
    },
    {
      "cell_type": "markdown",
      "metadata": {
        "id": "YVjSvQp8ZWLS",
        "colab_type": "text"
      },
      "source": [
        "NumPy arrays in python are basically grids of values of the same data type. Each element of a NumPy array has a non-negative index associated with it. When dealing with arrays, we come across a useful term called **shape** which gives the size of the array along each dimension. So why do we use NumPy array instead of standard Python lists? In Data Science calculations, NumPy arrays take up smaller memory consumption and better runtime behavior this is important as commonly, we deal with a large amount of data and the difference in processing Python lists and NumPy arrays will add up to a significant difference. NumPy also contains multi-dimensional array and matrix data structures and can perform several mathematical operations on arrays such as trigonometric, statistical, and algebraic routines. "
      ]
    },
    {
      "cell_type": "code",
      "metadata": {
        "id": "FvLsLrPUZWLT",
        "colab_type": "code",
        "colab": {},
        "outputId": "f465db2a-ea2c-4ee2-beaf-c75286cf9b5e"
      },
      "source": [
        "import numpy as np #importing numpy package \n",
        "a = np.array([1,2,3]) #initializing an array with the elements given in the brackets\n",
        "print (a)"
      ],
      "execution_count": null,
      "outputs": []
    },
    {
      "cell_type": "markdown",
      "metadata": {
        "id": "9CvoSukTZWLX",
        "colab_type": "text"
      },
      "source": [
        "Let's check the datatype for the array 'a'"
      ]
    },
    {
      "cell_type": "code",
      "metadata": {
        "id": "LXBkmS0qZWLX",
        "colab_type": "code",
        "colab": {},
        "outputId": "bf7c88cd-fa8f-401d-b714-3b39d4867dc8"
      },
      "source": [
        "print (type(a)) #write your code for checking the datatype here"
      ],
      "execution_count": null,
      "outputs": []
    },
    {
      "cell_type": "code",
      "metadata": {
        "id": "lqht1wILZWLa",
        "colab_type": "code",
        "colab": {},
        "outputId": "daa3876c-83cc-4725-886d-ea808e6b289c"
      },
      "source": [
        "#Creating an array with more than one dimension\n",
        "b = np.array([[1, 2], [3, 4]]) \n",
        "print (b)"
      ],
      "execution_count": null,
      "outputs": []
    },
    {
      "cell_type": "code",
      "metadata": {
        "id": "2tLaMCN5ZWLc",
        "colab_type": "code",
        "colab": {},
        "outputId": "e3165138-efa1-4b74-d8de-ae8d7eaba725"
      },
      "source": [
        "#let's check the shape of the arrays created so far\n",
        "print(\"Shape of array 'a' is:\",(a.shape))\n",
        "print(\"Shape of array 'b' is:\",(b.shape))"
      ],
      "execution_count": null,
      "outputs": []
    },
    {
      "cell_type": "code",
      "metadata": {
        "id": "oh-KPazNZWLf",
        "colab_type": "code",
        "colab": {},
        "outputId": "58f06594-bf96-4b8e-cb22-e5e7fa1ea036"
      },
      "source": [
        "#accessing elements of the array using the index\n",
        "print(a[0], a[1], a[2]) \n",
        "print(b[0][0]) #printing the first row first, first column element"
      ],
      "execution_count": null,
      "outputs": []
    },
    {
      "cell_type": "code",
      "metadata": {
        "id": "P8kHspilZWLh",
        "colab_type": "code",
        "colab": {},
        "outputId": "0ff83453-2512-4d14-fd51-7163e30c1611"
      },
      "source": [
        "#another way of printing a particular element of an array\n",
        "print(b[0,1])"
      ],
      "execution_count": null,
      "outputs": []
    },
    {
      "cell_type": "code",
      "metadata": {
        "id": "RZWfQYHPZWLk",
        "colab_type": "code",
        "colab": {},
        "outputId": "6306036f-27ea-414b-e334-568838e5a79e"
      },
      "source": [
        "#using the arange function to create an array\n",
        "c=np.arange(4) #prints the first four elements as 0 onwards by default\n",
        "print (c)\n",
        "d=np.arange(1,7)#specifying start point and end point\n",
        "print (d)"
      ],
      "execution_count": null,
      "outputs": []
    },
    {
      "cell_type": "code",
      "metadata": {
        "id": "_7wd9k5RZWLn",
        "colab_type": "code",
        "colab": {},
        "outputId": "c7c00154-a49f-4cf6-abf1-d659780f317f"
      },
      "source": [
        "# Create the following array with given shape (3, 4). Name the array 'new'\n",
        "# [[ 1  2  3  4]\n",
        "#  [ 5  6  7  8]\n",
        "#  [ 9 10 11 12]]\n",
        "new = np.array([[1,2,3,4], [5,6,7,8], [9,10,11,12]])\n",
        "print (new)"
      ],
      "execution_count": null,
      "outputs": []
    },
    {
      "cell_type": "code",
      "metadata": {
        "id": "S-h8rs6PZWLp",
        "colab_type": "code",
        "colab": {},
        "outputId": "dd2270af-542d-49b5-aeee-4e6d1370ce77"
      },
      "source": [
        "# Slicing is being used to pull out the subarray consisting of the first 2 rows\n",
        "# and columns 1 and 2; new_sub is the following array of shape (2, 2):\n",
        "\n",
        "new_sub = new[:2, 1:3]\n",
        "print(new_sub)"
      ],
      "execution_count": null,
      "outputs": []
    },
    {
      "cell_type": "markdown",
      "metadata": {
        "id": "EEtfOoFmZWLr",
        "colab_type": "text"
      },
      "source": [
        "**Integer array indexing** \n",
        "\n",
        "When you index into numpy arrays using slicing, the resulting array will always be a subarray of the original array. In contrast, integer array indexing allows you to construct arbitrary arrays using the data from another array. Do you recall slicing? We have gone through this in the previous notebook! Remember, indexes in Python always starts from 0 for the first element.\n",
        "\n",
        "Here is an example:"
      ]
    },
    {
      "cell_type": "code",
      "metadata": {
        "id": "tXBVqvqUZWLs",
        "colab_type": "code",
        "colab": {},
        "outputId": "3a72b496-5447-49d4-8c6d-cfe2499465f2"
      },
      "source": [
        "a = np.array([[1,2], [3, 4], [5, 6]])\n",
        "\n",
        "#Given the following, this is output of the above, can you see how you would get [1 4 5]? \n",
        "#For the value of '1' it is at position 0,0 which is the first 'box' and the first 'item' in the 'box'\n",
        "#For the vlaue of '4' it is at the position of 1,1 which is the second 'box' and the second 'item' in the 'box'\n",
        "#Can you now figure out how you would get the value of '5'?\n",
        "\n",
        "print(np.array([a[0, 0], a[1, 1], a[2, 0]]))  # Prints \"[1 4 5]\"\n",
        "\n",
        "\n",
        "#The above can also be written as:\n",
        "# a[0,0] '1'\n",
        "# a[1,1] '4'\n",
        "# a[2,0] '5'\n",
        "# This is an Example of integer array indexing. Look closely can you tell the difference between this statement and the last?\n",
        "b=(a[[0, 1, 2], [0, 1, 0]]) # Do you now see how array indexing is done and how it relates to the previous statements?\n",
        "\n",
        "\n",
        "print(b)  # Prints \"[1 4 5]\"\n",
        "print(b.shape) #Shape is 3"
      ],
      "execution_count": null,
      "outputs": []
    },
    {
      "cell_type": "code",
      "metadata": {
        "id": "qX_IshmoZWLw",
        "colab_type": "code",
        "colab": {},
        "outputId": "58915f01-29c2-4300-98d3-d0dda51c65f4"
      },
      "source": [
        "# The above example of integer array indexing is equivalent to this:\n",
        "print(np.array([a[0, 0], a[1, 1], a[2, 0]]))  # Prints \"[1 4 5]\"\n",
        "\n",
        "# When using integer array indexing, you can reuse the same\n",
        "# element from the source array:\n",
        "print(a[[0, 0], [1, 1]])  # Prints \"[2 2]\"\n",
        "\n",
        "# Equivalent to the previous integer array indexing example\n",
        "print(np.array([a[0, 1], a[0, 1]]))  # Prints \"[2 2]\""
      ],
      "execution_count": null,
      "outputs": []
    },
    {
      "cell_type": "markdown",
      "metadata": {
        "id": "409b2PhrZWLy",
        "colab_type": "text"
      },
      "source": [
        "We can also use integer indexing to mutate specific elements of an array"
      ]
    },
    {
      "cell_type": "code",
      "metadata": {
        "id": "ZJ2yft_HZWLy",
        "colab_type": "code",
        "colab": {},
        "outputId": "321b6958-4bbb-4623-a562-bfed2b3e9cfd"
      },
      "source": [
        "# Create an array of indices\n",
        "b = np.array([1, 0, 1])\n",
        "print(b)\n",
        "\n",
        "# Select one element from each row of a using the indices in b\n",
        "print(a[np.arange(3), b])"
      ],
      "execution_count": null,
      "outputs": []
    },
    {
      "cell_type": "code",
      "metadata": {
        "id": "n7uHCv9YZWL0",
        "colab_type": "code",
        "colab": {},
        "outputId": "890a2b5e-63fc-4a1f-c5e7-f8098d6d391c"
      },
      "source": [
        "# Mutate one element from each row of a using the indices in b\n",
        "a[np.arange(3), b] += 10\n",
        "\n",
        "print(a)"
      ],
      "execution_count": null,
      "outputs": []
    },
    {
      "cell_type": "markdown",
      "metadata": {
        "id": "xWc5rOdqZWL2",
        "colab_type": "text"
      },
      "source": [
        "## Datatypes in NumPy Arrays"
      ]
    },
    {
      "cell_type": "code",
      "metadata": {
        "id": "ANEu3E-HZWL3",
        "colab_type": "code",
        "colab": {},
        "outputId": "bf79690e-b0eb-497d-9db2-87a48b9224e1"
      },
      "source": [
        "roll_no = np.array([23, 46])   # Let numpy choose the datatype\n",
        "print(roll_no.dtype)         # Prints \"int64\"\n",
        "\n",
        "marks = np.array([65.5, 88.0])   # Let numpy choose the datatype\n",
        "print(marks.dtype)             # Prints \"float64\""
      ],
      "execution_count": null,
      "outputs": []
    },
    {
      "cell_type": "code",
      "metadata": {
        "id": "dO1iMifuZWL5",
        "colab_type": "code",
        "colab": {},
        "outputId": "91ca1e1b-5d15-47fe-8355-d2aa39427121"
      },
      "source": [
        "x = np.array([1, 2], dtype=np.int64)   # Force a particular datatype\n",
        "print(x.dtype)                         # Prints \"int64\""
      ],
      "execution_count": null,
      "outputs": []
    },
    {
      "cell_type": "markdown",
      "metadata": {
        "id": "GbxLAhH4ZWL7",
        "colab_type": "text"
      },
      "source": [
        "**Array Mathematics**"
      ]
    },
    {
      "cell_type": "markdown",
      "metadata": {
        "id": "G4rFPZ0GZWL8",
        "colab_type": "text"
      },
      "source": [
        "Basic mathematical operations are available on arrays in an elementwise manner. This can be done using either operators like (+,-,* etc.) or as built-in functions within the package itself."
      ]
    },
    {
      "cell_type": "code",
      "metadata": {
        "id": "DKbDABt0ZWL8",
        "colab_type": "code",
        "colab": {},
        "outputId": "151b47d3-c865-4681-95b7-7c6718cf1d90"
      },
      "source": [
        "x = np.array([[1,2],[3,4]], dtype=np.float64)\n",
        "y = np.array([[5,6],[7,8]], dtype=np.float64)\n",
        "\n",
        "# Elementwise sum; both produce the array\n",
        "# [[ 6.0  8.0]\n",
        "#  [10.0 12.0]]\n",
        "print(x + y)\n",
        "print(np.add(x, y))"
      ],
      "execution_count": null,
      "outputs": []
    },
    {
      "cell_type": "code",
      "metadata": {
        "id": "FsOQcgWaZWL-",
        "colab_type": "code",
        "colab": {}
      },
      "source": [
        "#write a code to create two arrays X & Y with the following elements and print their difference\n",
        "# X = [[13.0 7.0]\n",
        "#     [4.0 47.0]]\n",
        "# Y = [[16.0 14.0] \n",
        "#     [1.0 23.0]]"
      ],
      "execution_count": null,
      "outputs": []
    },
    {
      "cell_type": "code",
      "metadata": {
        "id": "Slob_hPFZWMA",
        "colab_type": "code",
        "colab": {},
        "outputId": "a50bc9d0-3ea9-4478-dee6-ba86e16c4410"
      },
      "source": [
        "X = np.array([[13.0,7.0],[4.0,47.0]], dtype=np.float64)\n",
        "Y = np.array([[16.0,14.0],[1.0,23.0]], dtype=np.float64)\n",
        "print (X-Y)\n",
        "print(np.subtract(X, Y))"
      ],
      "execution_count": null,
      "outputs": []
    },
    {
      "cell_type": "code",
      "metadata": {
        "id": "EDnC_FlkZWMC",
        "colab_type": "code",
        "colab": {},
        "outputId": "9fd39487-73fc-4aa7-990d-8a4f94e04b07"
      },
      "source": [
        "#to perform elementwise multiplication\n",
        "print(x * y)\n",
        "print(np.multiply(x, y))"
      ],
      "execution_count": null,
      "outputs": []
    },
    {
      "cell_type": "markdown",
      "metadata": {
        "id": "NnWsT7X9ZWME",
        "colab_type": "text"
      },
      "source": [
        "Note that this is different from performing matrix multiplication. The * operator is only used for elementwise multiplication."
      ]
    },
    {
      "cell_type": "code",
      "metadata": {
        "id": "kYbccOqfZWMF",
        "colab_type": "code",
        "colab": {},
        "outputId": "f61fd579-174d-467f-c019-02ca833fddb2"
      },
      "source": [
        "#to perform elementwise division\n",
        "print(x / y)\n",
        "print(np.divide(x, y))"
      ],
      "execution_count": null,
      "outputs": []
    },
    {
      "cell_type": "markdown",
      "metadata": {
        "id": "Cdjh6wfTZWMH",
        "colab_type": "text"
      },
      "source": [
        "Sorting NumPy Arrays"
      ]
    },
    {
      "cell_type": "code",
      "metadata": {
        "id": "9CNpx42aZWMH",
        "colab_type": "code",
        "colab": {},
        "outputId": "51f3f505-a0c4-48b0-8ce3-49d03156108f"
      },
      "source": [
        "a = np.array([1, 2, 3, 4, 5, 2, 1])\n",
        "print(a)"
      ],
      "execution_count": null,
      "outputs": []
    },
    {
      "cell_type": "code",
      "metadata": {
        "id": "BUoUFREdZWMK",
        "colab_type": "code",
        "colab": {},
        "outputId": "954eee38-8d0f-452a-e027-72d4aade2b11"
      },
      "source": [
        "np.sort(a) #function for sorting elements in ascending order\n",
        "print (np.sort(a))"
      ],
      "execution_count": null,
      "outputs": []
    },
    {
      "cell_type": "code",
      "metadata": {
        "id": "S_5gmqP2ZWMM",
        "colab_type": "code",
        "colab": {},
        "outputId": "a38df47c-9268-4ad0-dc4f-1a89f566885b"
      },
      "source": [
        "np.flip(np.sort(a)) #function for sorting elements in descending order\n",
        "print (np.flip(np.sort(a)))"
      ],
      "execution_count": null,
      "outputs": []
    },
    {
      "cell_type": "code",
      "metadata": {
        "id": "1CSAhd2tZWMO",
        "colab_type": "code",
        "colab": {},
        "outputId": "7ce185d4-8c37-4f3f-e971-565457715802"
      },
      "source": [
        "np.flip(np.sort(a))[:2]  #slicing and sorting\n",
        "print (np.flip(np.sort(a))[:2])"
      ],
      "execution_count": null,
      "outputs": []
    },
    {
      "cell_type": "markdown",
      "metadata": {
        "id": "jv3RiXOrZWMQ",
        "colab_type": "text"
      },
      "source": [
        "## Manipulating NumPy Arrays"
      ]
    },
    {
      "cell_type": "markdown",
      "metadata": {
        "id": "7NLocnb1ZWMR",
        "colab_type": "text"
      },
      "source": [
        "The function reshape() allows manipulation of shape of array without altering its elements. The syntax for this function is illustrated below"
      ]
    },
    {
      "cell_type": "code",
      "metadata": {
        "id": "mVcmR6vhZWMR",
        "colab_type": "code",
        "colab": {},
        "outputId": "ffd53319-5035-4a42-ed7d-86302d1a372d"
      },
      "source": [
        "x=np.arange(12) #creating 12*1 array\n",
        "print(x)"
      ],
      "execution_count": null,
      "outputs": []
    },
    {
      "cell_type": "code",
      "metadata": {
        "id": "uvyGnQPVZWMT",
        "colab_type": "code",
        "colab": {},
        "outputId": "7a0a683d-9cda-442d-a55b-c6cb2030468e"
      },
      "source": [
        "y=x.reshape(6,2) #changing shape from 12*1 to 6*2 array\n",
        "print(y)"
      ],
      "execution_count": null,
      "outputs": []
    },
    {
      "cell_type": "markdown",
      "metadata": {
        "id": "8CjlJ7A5ZWMV",
        "colab_type": "text"
      },
      "source": [
        "Just like concatenation of lists or strings we can concatenate arrays as well. In the following example we concatenate three one-dimensional arrays to one array. The elements of the second array are appended to the first array. After this the elements of the third array are appended."
      ]
    },
    {
      "cell_type": "code",
      "metadata": {
        "id": "XE7j9QiHZWMV",
        "colab_type": "code",
        "colab": {},
        "outputId": "86ea237f-f65f-4bac-9051-c02cc6cddc1f"
      },
      "source": [
        "x = np.array([3,12])\n",
        "y = np.array([12,4,7])\n",
        "z = np.array([2,6,8])\n",
        "print(x)\n",
        "print(y)\n",
        "print(z)\n",
        "c = np.concatenate((x,y,z)) #function to perform concatenation\n",
        "print(c)"
      ],
      "execution_count": null,
      "outputs": []
    },
    {
      "cell_type": "markdown",
      "metadata": {
        "id": "xcqbkmCBZWMX",
        "colab_type": "text"
      },
      "source": [
        "If we are concatenating multidimensional arrays, we can concatenate the arrays according to axis. Arrays must have the same shape to be concatenated with concatenate(). In the case of multidimensional arrays, we can arrange them according to the axis. The default value is axis = 0:"
      ]
    },
    {
      "cell_type": "code",
      "metadata": {
        "id": "B6Zc08MEZWMY",
        "colab_type": "code",
        "colab": {},
        "outputId": "3fe3dcbb-a77b-4965-8c74-5fd20a19ed75"
      },
      "source": [
        "x = np.array([[2,4],[7,9]])\n",
        "print(x)\n",
        "x=x.reshape(1,4)\n",
        "y = np.array([10,12,14,16])\n",
        "print(y)\n",
        "y=y.reshape(1,4)\n",
        "c = np.concatenate((x,y),axis=1)\n",
        "print(c)"
      ],
      "execution_count": null,
      "outputs": []
    },
    {
      "cell_type": "markdown",
      "metadata": {
        "id": "9hgKuwZaoe5u",
        "colab_type": "text"
      },
      "source": [
        "**Pro-tip**: To have a list of useful functions and commands always at your fingertips you can save this [cheatsheet](https://s3.amazonaws.com/assets.datacamp.com/blog_assets/Numpy_Python_Cheat_Sheet.pdf) here!"
      ]
    },
    {
      "cell_type": "markdown",
      "metadata": {
        "id": "k0GzJ4JHZWMZ",
        "colab_type": "text"
      },
      "source": [
        "# **Pandas**"
      ]
    },
    {
      "cell_type": "markdown",
      "metadata": {
        "id": "HehO_Q2-ZWMa",
        "colab_type": "text"
      },
      "source": [
        "Pandas is built on top of NumPy and is one of the most popular open-source packages available in Python. It's main utility lies in providing a large number of functions for handling real world data.\n",
        "\n",
        "You would not need to fully understand the capabilities of Pandas at present, the examples given are just to demonstrate the some of the useful workings of it. In the later sessions we will go through in full detail about how we would use Pandas in an ML workflow\n",
        "\n",
        "However, we would suggest going forward, to pay special attention to the syntax and the flow and order of the codes as they are generally always being used in similar fashion."
      ]
    },
    {
      "cell_type": "markdown",
      "metadata": {
        "id": "ei-nUdN-Z6Xd",
        "colab_type": "text"
      },
      "source": [
        "## Importing Pandas"
      ]
    },
    {
      "cell_type": "code",
      "metadata": {
        "id": "6U7ZtveEZ-yZ",
        "colab_type": "code",
        "colab": {}
      },
      "source": [
        "#Do you recognize the keywords here? Both import and the library name, such syntax will be common going forward\n",
        "import pandas as pd"
      ],
      "execution_count": null,
      "outputs": []
    },
    {
      "cell_type": "markdown",
      "metadata": {
        "id": "dsqMU0bAZWMa",
        "colab_type": "text"
      },
      "source": [
        " **Data Frame**"
      ]
    },
    {
      "cell_type": "markdown",
      "metadata": {
        "id": "tf4JYkytZWMb",
        "colab_type": "text"
      },
      "source": [
        "A Data frame is a two-dimensional data structure, i.e., data is aligned in a tabular fashion in rows and columns."
      ]
    },
    {
      "cell_type": "markdown",
      "metadata": {
        "id": "F00OCqoQbuYd",
        "colab_type": "text"
      },
      "source": [
        "DataFrames accepts many different kinds of inputs, if you would like to learn more, feel free to search online or go to [pandas'](https://pandas.pydata.org/pandas-docs/stable/user_guide/dsintro.html) documentation. <br>For the purpose of this example, we shall demonstrate a useful way you can use DataFrames. <br><br>Let's say we are interested in the weather, specifically we are interested in data from [Open Government Data](https://data.gov.in/keywords/weather) and have obtained a file called (JaipurFinalCleanData.csv) <br><br>A Comma-Separated Value or csv file, as the name implies contains a set of data separated by commas, files like these would be familiar to users of Spreadsheet software like Excel or Google Sheet.\n",
        "<br><br>In this example, we will open a csv file in Python, and load it into a DataFrame.\n",
        "<br><br> **Bonus Exercise:** Try loading in the file, and follow the rest of the exercise. Use your friend, the search engine and find a way to load your file into Colab!"
      ]
    },
    {
      "cell_type": "code",
      "metadata": {
        "id": "i33N7GgebjA4",
        "colab_type": "code",
        "colab": {
          "base_uri": "https://localhost:8080/",
          "height": 153
        },
        "outputId": "3e299f76-55ce-45f6-f1aa-1d7d9156a893"
      },
      "source": [
        "#If doing locally using Anaconda for example, the file(csv) should be in same the folder as this notebook.\n",
        "#This example is expected to have errors without the file being uploaded\n",
        "\n",
        "\n",
        "\n",
        "#First, create a variable we will call the DataFrame from\n",
        "dataframe = pd.read_csv(\"JaipurFinalCleanData.csv\")\n",
        "print(dataframe.head())"
      ],
      "execution_count": null,
      "outputs": []
    },
    {
      "cell_type": "markdown",
      "metadata": {
        "id": "eb0X9mEIfgk4",
        "colab_type": "text"
      },
      "source": [
        "the .head() function by default shows the first 5 rows of a DataFrame, it also helps you to check if the csv file have loaded in correctly."
      ]
    },
    {
      "cell_type": "code",
      "metadata": {
        "id": "ID2YMQcEf4mF",
        "colab_type": "code",
        "colab": {
          "base_uri": "https://localhost:8080/",
          "height": 238
        },
        "outputId": "41be9a67-97b1-40ff-9fae-fef01f6d91c5"
      },
      "source": [
        "#You may also add arguments into the function to display more data as so.\n",
        "print(dataframe.head(10))"
      ],
      "execution_count": null,
      "outputs": []
    },
    {
      "cell_type": "code",
      "metadata": {
        "id": "qMKftjwzgRom",
        "colab_type": "code",
        "colab": {
          "base_uri": "https://localhost:8080/",
          "height": 323
        },
        "outputId": "94c56f9a-3b4e-4a12-cee2-0fd2bc69f028"
      },
      "source": [
        "#Another useful thing you could do is to check all the datatypes within the dataframe \n",
        "dataframe.dtypes"
      ],
      "execution_count": null,
      "outputs": []
    },
    {
      "cell_type": "markdown",
      "metadata": {
        "id": "oyTc7QPiqLAd",
        "colab_type": "text"
      },
      "source": [
        "Have you noticed? Using print() on the DataFrame shows many values, but how are are you supposed to make sense of all of them? That is where we might want to do Data Visualization and use graphs, plots and charts to better understand what we are looking at and what we might be looking for. In the following Notebook we shall be looking into a useful and common library, **matplotlib** which helps us with this."
      ]
    }
  ]
}